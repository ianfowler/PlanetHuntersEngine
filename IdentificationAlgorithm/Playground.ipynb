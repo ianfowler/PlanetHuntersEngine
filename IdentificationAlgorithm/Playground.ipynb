{
 "cells": [
  {
   "cell_type": "code",
   "execution_count": 1,
   "metadata": {},
   "outputs": [],
   "source": [
    "import pandas as pd"
   ]
  },
  {
   "cell_type": "code",
   "execution_count": 2,
   "metadata": {},
   "outputs": [],
   "source": [
    "from ParameterStepper import gen_param_csv"
   ]
  },
  {
   "cell_type": "code",
   "execution_count": 3,
   "metadata": {},
   "outputs": [
    {
     "name": "stdout",
     "output_type": "stream",
     "text": [
      "exists\n",
      "exists\n",
      "exists\n",
      "exists\n",
      "exists\n",
      "exists\n",
      "exists\n",
      "exists\n",
      "exists\n",
      "exists\n",
      "exists\n",
      "exists\n",
      "exists\n",
      "exists\n",
      "exists\n",
      "exists\n",
      "exists\n",
      "exists\n",
      "exists\n",
      "exists\n",
      "exists\n",
      "exists\n",
      "exists\n",
      "exists\n",
      "exists\n",
      "exists\n",
      "exists\n",
      "exists\n",
      "exists\n",
      "exists\n",
      "exists\n",
      "exists\n",
      "exists\n",
      "exists\n",
      "exists\n",
      "exists\n",
      "exists\n",
      "exists\n",
      "exists\n",
      "exists\n",
      "exists\n",
      "exists\n",
      "exists\n",
      "exists\n",
      "exists\n",
      "exists\n",
      "exists\n",
      "exists\n",
      "exists\n",
      "exists\n",
      "exists\n",
      "exists\n",
      "exists\n",
      "exists\n",
      "exists\n",
      "exists\n",
      "exists\n",
      "exists\n",
      "exists\n",
      "exists\n",
      "exists\n",
      "exists\n",
      "exists\n",
      "exists\n",
      "making bins/bin_1/\n",
      "making bins/bin_2/\n",
      "making bins/bin_3/\n",
      "making bins/bin_4/\n",
      "making bins/bin_5/\n",
      "making bins/bin_6/\n",
      "making bins/bin_7/\n",
      "making bins/bin_8/\n",
      "making bins/bin_9/\n",
      "making bins/bin_10/\n",
      "making bins/bin_11/\n",
      "making bins/bin_12/\n",
      "making bins/bin_13/\n",
      "making bins/bin_14/\n",
      "making bins/bin_15/\n",
      "making bins/bin_16/\n",
      "making bins/bin_17/\n",
      "making bins/bin_18/\n",
      "making bins/bin_19/\n",
      "making bins/bin_20/\n",
      "making bins/bin_21/\n",
      "making bins/bin_22/\n",
      "making bins/bin_23/\n",
      "making bins/bin_24/\n",
      "making bins/bin_25/\n",
      "making bins/bin_26/\n",
      "making bins/bin_27/\n",
      "making bins/bin_28/\n",
      "making bins/bin_29/\n",
      "making bins/bin_30/\n",
      "making bins/bin_31/\n",
      "making bins/bin_32/\n",
      "making bins/bin_33/\n",
      "making bins/bin_34/\n",
      "making bins/bin_35/\n",
      "making bins/bin_36/\n",
      "making bins/bin_37/\n",
      "making bins/bin_38/\n",
      "making bins/bin_39/\n",
      "making bins/bin_40/\n",
      "making bins/bin_41/\n",
      "making bins/bin_42/\n",
      "making bins/bin_43/\n",
      "making bins/bin_44/\n",
      "making bins/bin_45/\n",
      "making bins/bin_46/\n",
      "making bins/bin_47/\n",
      "making bins/bin_48/\n",
      "making bins/bin_49/\n",
      "making bins/bin_50/\n",
      "making bins/bin_51/\n",
      "making bins/bin_52/\n",
      "making bins/bin_53/\n",
      "making bins/bin_54/\n",
      "making bins/bin_55/\n",
      "making bins/bin_56/\n",
      "making bins/bin_57/\n",
      "making bins/bin_58/\n",
      "making bins/bin_59/\n",
      "making bins/bin_60/\n",
      "making bins/bin_61/\n",
      "making bins/bin_62/\n",
      "making bins/bin_63/\n",
      "making bins/bin_64/\n",
      "Used existing directories for bins. Files were possibly overwritten\n"
     ]
    }
   ],
   "source": [
    "gen_param_csv()"
   ]
  },
  {
   "cell_type": "code",
   "execution_count": 4,
   "metadata": {},
   "outputs": [
    {
     "name": "stdout",
     "output_type": "stream",
     "text": [
      "./bins/bin_24/parameters.csv\n",
      "./bins/bin_23/parameters.csv\n",
      "./bins/bin_15/parameters.csv\n",
      "./bins/bin_12/parameters.csv\n",
      "./bins/bin_46/parameters.csv\n",
      "./bins/bin_41/parameters.csv\n",
      "./bins/bin_48/parameters.csv\n",
      "./bins/bin_13/parameters.csv\n",
      "./bins/bin_14/parameters.csv\n",
      "./bins/bin_22/parameters.csv\n",
      "./bins/bin_25/parameters.csv\n",
      "./bins/bin_49/parameters.csv\n",
      "./bins/bin_40/parameters.csv\n",
      "./bins/bin_47/parameters.csv\n",
      "./bins/bin_62/parameters.csv\n",
      "./bins/bin_4/parameters.csv\n",
      "./bins/bin_54/parameters.csv\n",
      "./bins/bin_53/parameters.csv\n",
      "./bins/bin_3/parameters.csv\n",
      "./bins/bin_38/parameters.csv\n",
      "./bins/bin_36/parameters.csv\n",
      "./bins/bin_31/parameters.csv\n",
      "./bins/bin_2/parameters.csv\n",
      "./bins/bin_52/parameters.csv\n",
      "./bins/bin_55/parameters.csv\n",
      "./bins/bin_5/parameters.csv\n",
      "./bins/bin_63/parameters.csv\n",
      "./bins/bin_64/parameters.csv\n",
      "./bins/bin_30/parameters.csv\n",
      "./bins/bin_37/parameters.csv\n",
      "./bins/bin_39/parameters.csv\n",
      "./bins/bin_42/parameters.csv\n",
      "./bins/bin_45/parameters.csv\n",
      "./bins/bin_20/parameters.csv\n",
      "./bins/bin_27/parameters.csv\n",
      "./bins/bin_18/parameters.csv\n",
      "./bins/bin_11/parameters.csv\n",
      "./bins/bin_16/parameters.csv\n",
      "./bins/bin_29/parameters.csv\n",
      "./bins/bin_44/parameters.csv\n",
      "./bins/bin_43/parameters.csv\n",
      "./bins/bin_17/parameters.csv\n",
      "./bins/bin_28/parameters.csv\n",
      "./bins/bin_10/parameters.csv\n",
      "./bins/bin_26/parameters.csv\n",
      "./bins/bin_19/parameters.csv\n",
      "./bins/bin_21/parameters.csv\n",
      "./bins/bin_32/parameters.csv\n",
      "./bins/bin_35/parameters.csv\n",
      "./bins/bin_61/parameters.csv\n",
      "./bins/bin_59/parameters.csv\n",
      "./bins/bin_9/parameters.csv\n",
      "./bins/bin_50/parameters.csv\n",
      "./bins/bin_7/parameters.csv\n",
      "./bins/bin_57/parameters.csv\n",
      "./bins/bin_34/parameters.csv\n",
      "./bins/bin_33/parameters.csv\n",
      "./bins/bin_56/parameters.csv\n",
      "./bins/bin_6/parameters.csv\n",
      "./bins/bin_1/parameters.csv\n",
      "./bins/bin_51/parameters.csv\n",
      "./bins/bin_8/parameters.csv\n",
      "./bins/bin_58/parameters.csv\n",
      "./bins/bin_60/parameters.csv\n"
     ]
    }
   ],
   "source": [
    "import os\n",
    "\n",
    "for subdir, dirs, files in os.walk(\"./bins/\"):\n",
    "    for file in files:\n",
    "        print(os.path.join(subdir, file))\n"
   ]
  },
  {
   "cell_type": "code",
   "execution_count": 5,
   "metadata": {},
   "outputs": [],
   "source": [
    "from TransitGenerator import row_to_lightcurve"
   ]
  },
  {
   "cell_type": "code",
   "execution_count": 7,
   "metadata": {},
   "outputs": [],
   "source": [
    "lc = row_to_lightcurve([\"t0\",\"per\",\"rp\",\"a\",\"inc\",\"ecc\",\"w\"],[1,2,3,4,5,6,7])"
   ]
  },
  {
   "cell_type": "code",
   "execution_count": 8,
   "metadata": {},
   "outputs": [
    {
     "data": {
      "text/plain": [
       "[<matplotlib.lines.Line2D at 0x11015a710>]"
      ]
     },
     "execution_count": 8,
     "metadata": {},
     "output_type": "execute_result"
    },
    {
     "data": {
      "image/png": "[encoded data removed]",
      "text/plain": [
       "<Figure size 432x288 with 1 Axes>"
      ]
     },
     "metadata": {
      "needs_background": "light"
     },
     "output_type": "display_data"
    }
   ],
   "source": [
    "import matplotlib.pyplot as plt\n",
    "plt.plot(lc)"
   ]
  },
  {
   "cell_type": "code",
   "execution_count": null,
   "metadata": {},
   "outputs": [],
   "source": []
  }
 ],
 "metadata": {
  "kernelspec": {
   "display_name": "Python 3",
   "language": "python",
   "name": "python3"
  },
  "language_info": {
   "codemirror_mode": {
    "name": "ipython",
    "version": 3
   },
   "file_extension": ".py",
   "mimetype": "text/x-python",
   "name": "python",
   "nbconvert_exporter": "python",
   "pygments_lexer": "ipython3",
   "version": "3.7.4"
  }
 },
 "nbformat": 4,
 "nbformat_minor": 2
}
