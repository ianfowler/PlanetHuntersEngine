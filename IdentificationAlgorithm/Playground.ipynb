{
 "cells": [
  {
   "cell_type": "code",
   "execution_count": null,
   "metadata": {},
   "outputs": [],
   "source": [
    "import pandas as pd"
   ]
  },
  {
   "cell_type": "code",
   "execution_count": null,
   "metadata": {},
   "outputs": [],
   "source": [
    "from ParameterStepper import gen_param_csv"
   ]
  },
  {
   "cell_type": "code",
   "execution_count": null,
   "metadata": {},
   "outputs": [],
   "source": [
    "gen_param_csv()"
   ]
  },
  {
   "cell_type": "code",
   "execution_count": 8,
   "metadata": {},
   "outputs": [
    {
     "name": "stdout",
     "output_type": "stream",
     "text": [
      "finished bin_24\n",
      "finished bin_23\n",
      "finished bin_15\n",
      "finished bin_12\n",
      "finished bin_46\n",
      "finished bin_41\n",
      "finished bin_48\n",
      "finished bin_13\n",
      "finished bin_14\n",
      "finished bin_22\n",
      "finished bin_25\n",
      "finished bin_49\n",
      "finished bin_40\n",
      "finished bin_47\n",
      "finished bin_62\n",
      "finished bin_4\n",
      "finished bin_54\n",
      "finished bin_53\n",
      "finished bin_3\n",
      "finished bin_38\n",
      "finished bin_36\n",
      "finished bin_31\n",
      "finished bin_2\n",
      "finished bin_52\n",
      "finished bin_55\n",
      "finished bin_5\n",
      "finished bin_63\n",
      "finished bin_64\n",
      "finished bin_30\n",
      "finished bin_37\n",
      "finished bin_39\n",
      "finished bin_42\n",
      "finished bin_45\n",
      "finished bin_20\n",
      "finished bin_27\n",
      "finished bin_18\n",
      "finished bin_11\n",
      "finished bin_16\n",
      "finished bin_29\n",
      "finished bin_44\n",
      "finished bin_43\n",
      "finished bin_17\n",
      "finished bin_28\n",
      "finished bin_10\n",
      "finished bin_26\n",
      "finished bin_19\n",
      "finished bin_21\n",
      "finished bin_32\n",
      "finished bin_35\n",
      "finished bin_61\n",
      "finished bin_59\n",
      "finished bin_9\n",
      "finished bin_50\n",
      "finished bin_7\n",
      "finished bin_57\n",
      "finished bin_34\n",
      "finished bin_33\n",
      "finished bin_56\n",
      "finished bin_6\n",
      "finished bin_1\n",
      "finished bin_51\n",
      "finished bin_8\n",
      "finished bin_58\n",
      "finished bin_60\n"
     ]
    }
   ],
   "source": [
    "import os\n",
    "import csv\n",
    "from TransitGenerator import row_to_lightcurve\n",
    "\n",
    "FOLDER_NAME = \"bins\"\n",
    "SAMPLE_LENGTH = 3197\n",
    "\n",
    "HEAD = [\"FLUX.{}\".format(i) for i in range(1,s+1)]\n",
    "HEAD[:0] = [\"index\"]\n",
    "\n",
    "for subdir, dirs, files in os.walk(\"./{}/\".format(FOLDER_NAME)):\n",
    "    for d in dirs:\n",
    "        with open('{}{}/parameters.csv'.format(subdir,d)) as csvfile:\n",
    "            arr = list(csv.reader(csvfile))\n",
    "            \n",
    "            lc_arr = [HEAD]\n",
    "            \n",
    "            header = arr[0]\n",
    "            \n",
    "            for i in range(1,len(arr)):\n",
    "                p = [float(a) for a in arr[i]] # Get params in float form\n",
    "                lc = row_to_lightcurve(header, p) # Generate lightcurve\n",
    "                lc[:0] = [i]\n",
    "                lc_arr.append(lc)\n",
    "                \n",
    "            with open(\"{}{}/transits.csv\".format(subdir,d),\"w+\") as my_csv:\n",
    "                csvWriter = csv.writer(my_csv,delimiter=',')\n",
    "                csvWriter.writerows(lc_arr)\n",
    "                \n",
    "        print(\"finished \" + d)"
   ]
  },
  {
   "cell_type": "code",
   "execution_count": null,
   "metadata": {},
   "outputs": [],
   "source": [
    "import os\n",
    "import csv\n",
    "from TransitGenerator import row_to_lightcurve\n",
    "\n",
    "FOLDER_NAME = \"bins\"\n",
    "SAMPLE_LENGTH = 3197\n",
    "\n",
    "HEAD = [\"FLUX.{}\".format(i) for i in range(1,s+1)]\n",
    "HEAD[:0] = [\"index\"]\n",
    "\n",
    "for subdir, dirs, files in os.walk(\"./{}/\".format(FOLDER_NAME)):\n",
    "    for d in dirs:\n",
    "        with open('{}{}/parameters.csv'.format(subdir,d)) as csvfile:\n",
    "            arr = list(csv.reader(csvfile))\n",
    "            \n",
    "            lc_arr = [HEAD]\n",
    "            \n",
    "            header = arr[0]\n",
    "            \n",
    "            for i in range(1,len(arr)):\n",
    "                p = [float(a) for a in arr[i]] # Get params in float form\n",
    "                lc = row_to_lightcurve(header, p) # Generate lightcurve\n",
    "                lc[:0] = [i]\n",
    "                lc_arr.append(lc)\n",
    "                \n",
    "            with open(\"{}{}/transits.csv\".format(subdir,d),\"w+\") as my_csv:\n",
    "                csvWriter = csv.writer(my_csv,delimiter=',')\n",
    "                csvWriter.writerows(lc_arr)\n",
    "                \n",
    "        print(\"finished \" + d)"
   ]
  },
  {
   "cell_type": "code",
   "execution_count": null,
   "metadata": {},
   "outputs": [],
   "source": [
    "lc = row_to_lightcurve([\"t0\",\"per\",\"rp\",\"a\",\"inc\",\"ecc\",\"w\"],[1,2,3,4,5,6,7])"
   ]
  },
  {
   "cell_type": "code",
   "execution_count": 6,
   "metadata": {},
   "outputs": [
    {
     "ename": "NameError",
     "evalue": "name 'lc' is not defined",
     "output_type": "error",
     "traceback": [
      "\u001b[0;31m---------------------------------------------------------------------------\u001b[0m",
      "\u001b[0;31mNameError\u001b[0m                                 Traceback (most recent call last)",
      "\u001b[0;32m<ipython-input-6-82ce7360968c>\u001b[0m in \u001b[0;36m<module>\u001b[0;34m\u001b[0m\n\u001b[1;32m      1\u001b[0m \u001b[0;32mimport\u001b[0m \u001b[0mmatplotlib\u001b[0m\u001b[0;34m.\u001b[0m\u001b[0mpyplot\u001b[0m \u001b[0;32mas\u001b[0m \u001b[0mplt\u001b[0m\u001b[0;34m\u001b[0m\u001b[0;34m\u001b[0m\u001b[0m\n\u001b[0;32m----> 2\u001b[0;31m \u001b[0mplt\u001b[0m\u001b[0;34m.\u001b[0m\u001b[0mplot\u001b[0m\u001b[0;34m(\u001b[0m\u001b[0mlc\u001b[0m\u001b[0;34m)\u001b[0m\u001b[0;34m\u001b[0m\u001b[0;34m\u001b[0m\u001b[0m\n\u001b[0m",
      "\u001b[0;31mNameError\u001b[0m: name 'lc' is not defined"
     ]
    }
   ],
   "source": [
    "import matplotlib.pyplot as plt\n",
    "plt.plot(lc)"
   ]
  },
  {
   "cell_type": "code",
   "execution_count": 2,
   "metadata": {},
   "outputs": [],
   "source": [
    "import pandas as pd\n",
    "transits = pd.read_csv(\"noiseless/bin_24/transits.csv\")"
   ]
  },
  {
   "cell_type": "code",
   "execution_count": 3,
   "metadata": {},
   "outputs": [
    {
     "data": {
      "text/html": [
       "<div>\n",
       "<style scoped>\n",
       "    .dataframe tbody tr th:only-of-type {\n",
       "        vertical-align: middle;\n",
       "    }\n",
       "\n",
       "    .dataframe tbody tr th {\n",
       "        vertical-align: top;\n",
       "    }\n",
       "\n",
       "    .dataframe thead th {\n",
       "        text-align: right;\n",
       "    }\n",
       "</style>\n",
       "<table border=\"1\" class=\"dataframe\">\n",
       "  <thead>\n",
       "    <tr style=\"text-align: right;\">\n",
       "      <th></th>\n",
       "      <th>index</th>\n",
       "      <th>FLUX.1</th>\n",
       "      <th>FLUX.2</th>\n",
       "      <th>FLUX.3</th>\n",
       "      <th>FLUX.4</th>\n",
       "      <th>FLUX.5</th>\n",
       "      <th>FLUX.6</th>\n",
       "      <th>FLUX.7</th>\n",
       "      <th>FLUX.8</th>\n",
       "      <th>FLUX.9</th>\n",
       "      <th>...</th>\n",
       "      <th>FLUX.3188</th>\n",
       "      <th>FLUX.3189</th>\n",
       "      <th>FLUX.3190</th>\n",
       "      <th>FLUX.3191</th>\n",
       "      <th>FLUX.3192</th>\n",
       "      <th>FLUX.3193</th>\n",
       "      <th>FLUX.3194</th>\n",
       "      <th>FLUX.3195</th>\n",
       "      <th>FLUX.3196</th>\n",
       "      <th>FLUX.3197</th>\n",
       "    </tr>\n",
       "  </thead>\n",
       "  <tbody>\n",
       "    <tr>\n",
       "      <td>0</td>\n",
       "      <td>0.99997</td>\n",
       "      <td>0.99997</td>\n",
       "      <td>0.99997</td>\n",
       "      <td>0.99997</td>\n",
       "      <td>0.99997</td>\n",
       "      <td>0.99997</td>\n",
       "      <td>0.99997</td>\n",
       "      <td>0.99997</td>\n",
       "      <td>0.99997</td>\n",
       "      <td>0.99997</td>\n",
       "      <td>...</td>\n",
       "      <td>1.0</td>\n",
       "      <td>1.0</td>\n",
       "      <td>1.0</td>\n",
       "      <td>1.0</td>\n",
       "      <td>1.0</td>\n",
       "      <td>1.0</td>\n",
       "      <td>1.0</td>\n",
       "      <td>1.0</td>\n",
       "      <td>1.0</td>\n",
       "      <td>NaN</td>\n",
       "    </tr>\n",
       "    <tr>\n",
       "      <td>1</td>\n",
       "      <td>0.99997</td>\n",
       "      <td>0.99997</td>\n",
       "      <td>0.99997</td>\n",
       "      <td>0.99997</td>\n",
       "      <td>0.99997</td>\n",
       "      <td>0.99997</td>\n",
       "      <td>0.99997</td>\n",
       "      <td>0.99997</td>\n",
       "      <td>0.99997</td>\n",
       "      <td>0.99997</td>\n",
       "      <td>...</td>\n",
       "      <td>1.0</td>\n",
       "      <td>1.0</td>\n",
       "      <td>1.0</td>\n",
       "      <td>1.0</td>\n",
       "      <td>1.0</td>\n",
       "      <td>1.0</td>\n",
       "      <td>1.0</td>\n",
       "      <td>1.0</td>\n",
       "      <td>1.0</td>\n",
       "      <td>NaN</td>\n",
       "    </tr>\n",
       "    <tr>\n",
       "      <td>2</td>\n",
       "      <td>0.99997</td>\n",
       "      <td>0.99997</td>\n",
       "      <td>0.99997</td>\n",
       "      <td>0.99997</td>\n",
       "      <td>0.99997</td>\n",
       "      <td>0.99997</td>\n",
       "      <td>0.99997</td>\n",
       "      <td>0.99997</td>\n",
       "      <td>0.99997</td>\n",
       "      <td>0.99997</td>\n",
       "      <td>...</td>\n",
       "      <td>1.0</td>\n",
       "      <td>1.0</td>\n",
       "      <td>1.0</td>\n",
       "      <td>1.0</td>\n",
       "      <td>1.0</td>\n",
       "      <td>1.0</td>\n",
       "      <td>1.0</td>\n",
       "      <td>1.0</td>\n",
       "      <td>1.0</td>\n",
       "      <td>NaN</td>\n",
       "    </tr>\n",
       "    <tr>\n",
       "      <td>3</td>\n",
       "      <td>0.99997</td>\n",
       "      <td>0.99997</td>\n",
       "      <td>0.99997</td>\n",
       "      <td>0.99997</td>\n",
       "      <td>0.99997</td>\n",
       "      <td>0.99997</td>\n",
       "      <td>0.99997</td>\n",
       "      <td>0.99997</td>\n",
       "      <td>0.99997</td>\n",
       "      <td>0.99997</td>\n",
       "      <td>...</td>\n",
       "      <td>1.0</td>\n",
       "      <td>1.0</td>\n",
       "      <td>1.0</td>\n",
       "      <td>1.0</td>\n",
       "      <td>1.0</td>\n",
       "      <td>1.0</td>\n",
       "      <td>1.0</td>\n",
       "      <td>1.0</td>\n",
       "      <td>1.0</td>\n",
       "      <td>NaN</td>\n",
       "    </tr>\n",
       "    <tr>\n",
       "      <td>4</td>\n",
       "      <td>0.99997</td>\n",
       "      <td>0.99997</td>\n",
       "      <td>0.99997</td>\n",
       "      <td>0.99997</td>\n",
       "      <td>0.99997</td>\n",
       "      <td>0.99997</td>\n",
       "      <td>0.99997</td>\n",
       "      <td>0.99997</td>\n",
       "      <td>0.99997</td>\n",
       "      <td>0.99997</td>\n",
       "      <td>...</td>\n",
       "      <td>1.0</td>\n",
       "      <td>1.0</td>\n",
       "      <td>1.0</td>\n",
       "      <td>1.0</td>\n",
       "      <td>1.0</td>\n",
       "      <td>1.0</td>\n",
       "      <td>1.0</td>\n",
       "      <td>1.0</td>\n",
       "      <td>1.0</td>\n",
       "      <td>NaN</td>\n",
       "    </tr>\n",
       "  </tbody>\n",
       "</table>\n",
       "<p>5 rows × 3198 columns</p>\n",
       "</div>"
      ],
      "text/plain": [
       "     index   FLUX.1   FLUX.2   FLUX.3   FLUX.4   FLUX.5   FLUX.6   FLUX.7  \\\n",
       "0  0.99997  0.99997  0.99997  0.99997  0.99997  0.99997  0.99997  0.99997   \n",
       "1  0.99997  0.99997  0.99997  0.99997  0.99997  0.99997  0.99997  0.99997   \n",
       "2  0.99997  0.99997  0.99997  0.99997  0.99997  0.99997  0.99997  0.99997   \n",
       "3  0.99997  0.99997  0.99997  0.99997  0.99997  0.99997  0.99997  0.99997   \n",
       "4  0.99997  0.99997  0.99997  0.99997  0.99997  0.99997  0.99997  0.99997   \n",
       "\n",
       "    FLUX.8   FLUX.9  ...  FLUX.3188  FLUX.3189  FLUX.3190  FLUX.3191  \\\n",
       "0  0.99997  0.99997  ...        1.0        1.0        1.0        1.0   \n",
       "1  0.99997  0.99997  ...        1.0        1.0        1.0        1.0   \n",
       "2  0.99997  0.99997  ...        1.0        1.0        1.0        1.0   \n",
       "3  0.99997  0.99997  ...        1.0        1.0        1.0        1.0   \n",
       "4  0.99997  0.99997  ...        1.0        1.0        1.0        1.0   \n",
       "\n",
       "   FLUX.3192  FLUX.3193  FLUX.3194  FLUX.3195  FLUX.3196  FLUX.3197  \n",
       "0        1.0        1.0        1.0        1.0        1.0        NaN  \n",
       "1        1.0        1.0        1.0        1.0        1.0        NaN  \n",
       "2        1.0        1.0        1.0        1.0        1.0        NaN  \n",
       "3        1.0        1.0        1.0        1.0        1.0        NaN  \n",
       "4        1.0        1.0        1.0        1.0        1.0        NaN  \n",
       "\n",
       "[5 rows x 3198 columns]"
      ]
     },
     "execution_count": 3,
     "metadata": {},
     "output_type": "execute_result"
    }
   ],
   "source": [
    "transits.head()"
   ]
  },
  {
   "cell_type": "code",
   "execution_count": 7,
   "metadata": {},
   "outputs": [
    {
     "data": {
      "text/plain": [
       "[<matplotlib.lines.Line2D at 0x11e1e2c10>]"
      ]
     },
     "execution_count": 7,
     "metadata": {},
     "output_type": "execute_result"
    },
    {
     "data": {
      "image/png": "[encoded data removed]",
      "text/plain": [
       "<Figure size 432x288 with 1 Axes>"
      ]
     },
     "metadata": {
      "needs_background": "light"
     },
     "output_type": "display_data"
    }
   ],
   "source": [
    "plt.plot(transits.iloc[0])"
   ]
  },
  {
   "cell_type": "code",
   "execution_count": 8,
   "metadata": {},
   "outputs": [
    {
     "data": {
      "text/plain": [
       "[<matplotlib.lines.Line2D at 0x120ca1c90>]"
      ]
     },
     "execution_count": 8,
     "metadata": {},
     "output_type": "execute_result"
    },
    {
     "data": {
      "image/png": "[encoded data removed]",
      "text/plain": [
       "<Figure size 432x288 with 1 Axes>"
      ]
     },
     "metadata": {
      "needs_background": "light"
     },
     "output_type": "display_data"
    }
   ],
   "source": [
    "transits2 = pd.read_csv(\"noiseless2/bin_24/transits.csv\")\n",
    "plt.plot(transits2.iloc[0])"
   ]
  },
  {
   "cell_type": "code",
   "execution_count": 9,
   "metadata": {},
   "outputs": [
    {
     "data": {
      "text/plain": [
       "[<matplotlib.lines.Line2D at 0x128e73e10>]"
      ]
     },
     "execution_count": 9,
     "metadata": {},
     "output_type": "execute_result"
    },
    {
     "data": {
      "image/png": "[encoded data removed]",
      "text/plain": [
       "<Figure size 432x288 with 1 Axes>"
      ]
     },
     "metadata": {
      "needs_background": "light"
     },
     "output_type": "display_data"
    }
   ],
   "source": [
    "transits3 = pd.read_csv(\"trial_1/bin_24/transits.csv\")\n",
    "plt.plot(transits3.iloc[0])"
   ]
  },
  {
   "cell_type": "code",
   "execution_count": 11,
   "metadata": {},
   "outputs": [
    {
     "data": {
      "text/plain": [
       "[<matplotlib.lines.Line2D at 0x1346b8cd0>]"
      ]
     },
     "execution_count": 11,
     "metadata": {},
     "output_type": "execute_result"
    },
    {
     "data": {
      "image/png": "[encoded data removed]",
      "text/plain": [
       "<Figure size 432x288 with 1 Axes>"
      ]
     },
     "metadata": {
      "needs_background": "light"
     },
     "output_type": "display_data"
    }
   ],
   "source": [
    "plt.plot(pd.read_csv(\"trial_1/bin_24/transits.csv\").iloc[0])\n"
   ]
  },
  {
   "cell_type": "code",
   "execution_count": 12,
   "metadata": {},
   "outputs": [
    {
     "name": "stdout",
     "output_type": "stream",
     "text": [
      "1\n",
      "2\n",
      "3\n",
      "4\n",
      "5\n",
      "6\n",
      "7\n",
      "8\n",
      "9\n",
      "10\n",
      "11\n",
      "12\n",
      "13\n",
      "14\n",
      "15\n",
      "16\n",
      "17\n",
      "18\n",
      "19\n",
      "20\n",
      "21\n",
      "22\n",
      "23\n",
      "24\n",
      "25\n",
      "26\n",
      "27\n",
      "28\n",
      "29\n",
      "30\n",
      "31\n",
      "32\n",
      "33\n",
      "34\n",
      "35\n",
      "36\n",
      "37\n",
      "38\n",
      "39\n",
      "40\n",
      "41\n",
      "42\n",
      "43\n",
      "44\n",
      "45\n",
      "46\n",
      "47\n",
      "48\n",
      "49\n",
      "50\n",
      "51\n",
      "52\n",
      "53\n",
      "54\n",
      "55\n",
      "56\n",
      "57\n",
      "58\n",
      "59\n",
      "60\n"
     ]
    },
    {
     "data": {
      "image/png": "[encoded data removed]",
      "text/plain": [
       "<Figure size 432x288 with 1 Axes>"
      ]
     },
     "metadata": {
      "needs_background": "light"
     },
     "output_type": "display_data"
    }
   ],
   "source": [
    "for i in range(1,61):\n",
    "    print(i)\n",
    "    plt.plot(pd.read_csv(\"trial_1/bin_{}/transits.csv\".format(i)).iloc[0])"
   ]
  },
  {
   "cell_type": "code",
   "execution_count": 13,
   "metadata": {},
   "outputs": [
    {
     "data": {
      "text/plain": [
       "66.60416666666667"
      ]
     },
     "execution_count": 13,
     "metadata": {},
     "output_type": "execute_result"
    }
   ],
   "source": [
    "30*3197/60/24"
   ]
  },
  {
   "cell_type": "code",
   "execution_count": 17,
   "metadata": {},
   "outputs": [
    {
     "data": {
      "text/plain": [
       "index        0.99997\n",
       "FLUX.1       0.99997\n",
       "FLUX.2       0.99997\n",
       "FLUX.3       0.99997\n",
       "FLUX.4       0.99997\n",
       "              ...   \n",
       "FLUX.3193    0.99997\n",
       "FLUX.3194    0.99997\n",
       "FLUX.3195    0.99997\n",
       "FLUX.3196    0.99997\n",
       "FLUX.3197        NaN\n",
       "Name: 0, Length: 3198, dtype: float64"
      ]
     },
     "execution_count": 17,
     "metadata": {},
     "output_type": "execute_result"
    }
   ],
   "source": [
    "pd.read_csv(\"trial_1/bin_{}/transits.csv\".format(64)).iloc[0]"
   ]
  },
  {
   "cell_type": "code",
   "execution_count": null,
   "metadata": {},
   "outputs": [],
   "source": []
  }
 ],
 "metadata": {
  "kernelspec": {
   "display_name": "Python 3",
   "language": "python",
   "name": "python3"
  },
  "language_info": {
   "codemirror_mode": {
    "name": "ipython",
    "version": 3
   },
   "file_extension": ".py",
   "mimetype": "text/x-python",
   "name": "python",
   "nbconvert_exporter": "python",
   "pygments_lexer": "ipython3",
   "version": "3.7.4"
  }
 },
 "nbformat": 4,
 "nbformat_minor": 2
}
