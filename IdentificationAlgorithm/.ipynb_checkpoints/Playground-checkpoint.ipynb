{
 "cells": [
  {
   "cell_type": "code",
   "execution_count": 1,
   "metadata": {},
   "outputs": [],
   "source": [
    "import pandas as pd"
   ]
  },
  {
   "cell_type": "code",
   "execution_count": 6,
   "metadata": {},
   "outputs": [],
   "source": [
    "from ParameterStepper import gen_param_csv"
   ]
  },
  {
   "cell_type": "code",
   "execution_count": 7,
   "metadata": {},
   "outputs": [
    {
     "name": "stdout",
     "output_type": "stream",
     "text": [
      "Used existing directories for bins. Files were possibly overwritten\n"
     ]
    }
   ],
   "source": [
    "gen_param_csv()"
   ]
  },
  {
   "cell_type": "code",
   "execution_count": 15,
   "metadata": {},
   "outputs": [
    {
     "name": "stdout",
     "output_type": "stream",
     "text": [
      "./bins/bin_24/parameters.csv\n",
      "./bins/bin_23/parameters.csv\n",
      "./bins/bin_15/parameters.csv\n",
      "./bins/bin_12/parameters.csv\n",
      "./bins/bin_46/parameters.csv\n",
      "./bins/bin_41/parameters.csv\n",
      "./bins/bin_48/parameters.csv\n",
      "./bins/bin_13/parameters.csv\n",
      "./bins/bin_14/parameters.csv\n",
      "./bins/bin_22/parameters.csv\n",
      "./bins/bin_25/parameters.csv\n",
      "./bins/bin_49/parameters.csv\n",
      "./bins/bin_40/parameters.csv\n",
      "./bins/bin_47/parameters.csv\n",
      "./bins/bin_62/parameters.csv\n",
      "./bins/bin_4/parameters.csv\n",
      "./bins/bin_54/parameters.csv\n",
      "./bins/bin_53/parameters.csv\n",
      "./bins/bin_3/parameters.csv\n",
      "./bins/bin_38/parameters.csv\n",
      "./bins/bin_36/parameters.csv\n",
      "./bins/bin_31/parameters.csv\n",
      "./bins/bin_2/parameters.csv\n",
      "./bins/bin_52/parameters.csv\n",
      "./bins/bin_55/parameters.csv\n",
      "./bins/bin_5/parameters.csv\n",
      "./bins/bin_63/parameters.csv\n",
      "./bins/bin_64/parameters.csv\n",
      "./bins/bin_30/parameters.csv\n",
      "./bins/bin_37/parameters.csv\n",
      "./bins/bin_39/parameters.csv\n",
      "./bins/bin_42/parameters.csv\n",
      "./bins/bin_45/parameters.csv\n",
      "./bins/bin_20/parameters.csv\n",
      "./bins/bin_27/parameters.csv\n",
      "./bins/bin_18/parameters.csv\n",
      "./bins/bin_11/parameters.csv\n",
      "./bins/bin_16/parameters.csv\n",
      "./bins/bin_29/parameters.csv\n",
      "./bins/bin_44/parameters.csv\n",
      "./bins/bin_43/parameters.csv\n",
      "./bins/bin_17/parameters.csv\n",
      "./bins/bin_28/parameters.csv\n",
      "./bins/bin_10/parameters.csv\n",
      "./bins/bin_26/parameters.csv\n",
      "./bins/bin_19/parameters.csv\n",
      "./bins/bin_21/parameters.csv\n",
      "./bins/bin_32/parameters.csv\n",
      "./bins/bin_35/parameters.csv\n",
      "./bins/bin_61/parameters.csv\n",
      "./bins/bin_59/parameters.csv\n",
      "./bins/bin_9/parameters.csv\n",
      "./bins/bin_50/parameters.csv\n",
      "./bins/bin_7/parameters.csv\n",
      "./bins/bin_57/parameters.csv\n",
      "./bins/bin_34/parameters.csv\n",
      "./bins/bin_33/parameters.csv\n",
      "./bins/bin_56/parameters.csv\n",
      "./bins/bin_6/parameters.csv\n",
      "./bins/bin_1/parameters.csv\n",
      "./bins/bin_51/parameters.csv\n",
      "./bins/bin_8/parameters.csv\n",
      "./bins/bin_58/parameters.csv\n",
      "./bins/bin_60/parameters.csv\n"
     ]
    }
   ],
   "source": [
    "import os\n",
    "\n",
    "for subdir, dirs, files in os.walk(\"./bins/\"):\n",
    "    for file in files:\n",
    "        print(os.path.join(subdir, file))\n"
   ]
  },
  {
   "cell_type": "code",
   "execution_count": 19,
   "metadata": {},
   "outputs": [
    {
     "ename": "ImportError",
     "evalue": "cannot import name 'row_to_lightcurve' from 'TransitGenerator' (/Users/Ian/IMSA/Core/PlanetHuntersEngine/PlanetHuntersEngine/IdentificationAlgorithm/TransitGenerator.py)",
     "output_type": "error",
     "traceback": [
      "\u001b[0;31m---------------------------------------------------------------------------\u001b[0m",
      "\u001b[0;31mImportError\u001b[0m                               Traceback (most recent call last)",
      "\u001b[0;32m<ipython-input-19-452199a86b86>\u001b[0m in \u001b[0;36m<module>\u001b[0;34m\u001b[0m\n\u001b[0;32m----> 1\u001b[0;31m \u001b[0;32mfrom\u001b[0m \u001b[0mTransitGenerator\u001b[0m \u001b[0;32mimport\u001b[0m \u001b[0mrow_to_lightcurve\u001b[0m\u001b[0;34m\u001b[0m\u001b[0;34m\u001b[0m\u001b[0m\n\u001b[0m",
      "\u001b[0;31mImportError\u001b[0m: cannot import name 'row_to_lightcurve' from 'TransitGenerator' (/Users/Ian/IMSA/Core/PlanetHuntersEngine/PlanetHuntersEngine/IdentificationAlgorithm/TransitGenerator.py)"
     ]
    }
   ],
   "source": [
    "from TransitGenerator import row_to_lightcurve"
   ]
  },
  {
   "cell_type": "code",
   "execution_count": 18,
   "metadata": {},
   "outputs": [
    {
     "ename": "NameError",
     "evalue": "name 'row_to_lightcurve' is not defined",
     "output_type": "error",
     "traceback": [
      "\u001b[0;31m---------------------------------------------------------------------------\u001b[0m",
      "\u001b[0;31mNameError\u001b[0m                                 Traceback (most recent call last)",
      "\u001b[0;32m<ipython-input-18-ec07e67c3fc1>\u001b[0m in \u001b[0;36m<module>\u001b[0;34m\u001b[0m\n\u001b[0;32m----> 1\u001b[0;31m \u001b[0mrow_to_lightcurve\u001b[0m\u001b[0;34m(\u001b[0m\u001b[0;34m[\u001b[0m\u001b[0;34m\"t0\"\u001b[0m\u001b[0;34m,\u001b[0m\u001b[0;34m\"per\"\u001b[0m\u001b[0;34m,\u001b[0m\u001b[0;34m\"rp\"\u001b[0m\u001b[0;34m,\u001b[0m\u001b[0;34m\"a\"\u001b[0m\u001b[0;34m,\u001b[0m\u001b[0;34m\"inc\"\u001b[0m\u001b[0;34m,\u001b[0m\u001b[0;34m\"ecc\"\u001b[0m\u001b[0;34m,\u001b[0m\u001b[0;34m\"w\"\u001b[0m\u001b[0;34m]\u001b[0m\u001b[0;34m,\u001b[0m\u001b[0;34m[\u001b[0m\u001b[0;36m1\u001b[0m\u001b[0;34m,\u001b[0m\u001b[0;36m2\u001b[0m\u001b[0;34m,\u001b[0m\u001b[0;36m3\u001b[0m\u001b[0;34m,\u001b[0m\u001b[0;36m4\u001b[0m\u001b[0;34m,\u001b[0m\u001b[0;36m5\u001b[0m\u001b[0;34m,\u001b[0m\u001b[0;36m6\u001b[0m\u001b[0;34m,\u001b[0m\u001b[0;36m7\u001b[0m\u001b[0;34m]\u001b[0m\u001b[0;34m)\u001b[0m\u001b[0;34m\u001b[0m\u001b[0;34m\u001b[0m\u001b[0m\n\u001b[0m",
      "\u001b[0;31mNameError\u001b[0m: name 'row_to_lightcurve' is not defined"
     ]
    }
   ],
   "source": [
    "row_to_lightcurve([\"t0\",\"per\",\"rp\",\"a\",\"inc\",\"ecc\",\"w\"],[1,2,3,4,5,6,7])"
   ]
  },
  {
   "cell_type": "code",
   "execution_count": null,
   "metadata": {},
   "outputs": [],
   "source": []
  }
 ],
 "metadata": {
  "kernelspec": {
   "display_name": "Python 3",
   "language": "python",
   "name": "python3"
  },
  "language_info": {
   "codemirror_mode": {
    "name": "ipython",
    "version": 3
   },
   "file_extension": ".py",
   "mimetype": "text/x-python",
   "name": "python",
   "nbconvert_exporter": "python",
   "pygments_lexer": "ipython3",
   "version": "3.7.4"
  }
 },
 "nbformat": 4,
 "nbformat_minor": 2
}
